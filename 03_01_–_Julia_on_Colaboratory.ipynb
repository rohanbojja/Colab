{
  "nbformat": 4,
  "nbformat_minor": 0,
  "metadata": {
    "kernelspec": {
      "name": "julia-1.4",
      "display_name": "Julia 1.4"
    },
    "colab": {
      "name": "03_01_–_Julia_on_Colaboratory.ipynb",
      "provenance": [],
      "collapsed_sections": [
        "Q7S9cpFJqfXy"
      ],
      "toc_visible": true,
      "include_colab_link": true
    }
  },
  "cells": [
    {
      "cell_type": "markdown",
      "metadata": {
        "id": "view-in-github",
        "colab_type": "text"
      },
      "source": [
        "<a href=\"https://colab.research.google.com/github/rohanbojja/Colab/blob/master/03_01_%E2%80%93_Julia_on_Colaboratory.ipynb\" target=\"_parent\"><img src=\"https://colab.research.google.com/assets/colab-badge.svg\" alt=\"Open In Colab\"/></a>"
      ]
    },
    {
      "cell_type": "markdown",
      "metadata": {
        "id": "Q7S9cpFJqfXy",
        "colab_type": "text"
      },
      "source": [
        "## Julia on Colaboratory ##\n",
        "\n",
        "[Colaboratory](https://colab.research.google.com) does not provide native support for the [Julia programming language](https://julialang.org). However, since Colaboratory gives you root access to the machine that runs your notebook (the *“runtime”* in Colaboratory terminology), we can install Julia support by uploading a specially crafted Julia notebook  – *this* notebook. We then install Julia and [IJulia](https://github.com/JuliaLang/IJulia.jl) ([Jupyter](https://jupyter.org)/Colaboratory notebook support) and reload the notebook so that Colaboratory detects and initiates what we installed.\n",
        "\n",
        "In brief:\n",
        "\n",
        "1. **Run the cell below**\n",
        "2. **Reload the page**\n",
        "3. **Edit the notebook name and start hacking Julia code below**\n",
        "\n",
        "**If your runtime resets**, either manually or if left idle for some time, **repeat steps 1 and 2**.\n",
        "\n",
        "### Acknowledgements ###\n",
        "\n",
        "This hack by Pontus Stenetorp is an adaptation of [James Bradbury’s original Colaboratory Julia hack](https://discourse.julialang.org/t/julia-on-google-colab-free-gpu-accelerated-shareable-notebooks/15319/27), that broke some time in September 2019 as Colaboratory increased their level of notebook runtime isolation. There also appears to be CUDA compilation support installed by default for each notebook runtime type in October 2019, which shaves off a good 15 minutes or so from the original hack’s installation time."
      ]
    },
    {
      "cell_type": "code",
      "metadata": {
        "id": "BrHjOFFsxf7W",
        "colab_type": "code",
        "outputId": "9ad85581-e716-4f8d-d33c-9f3ee1ee397f",
        "colab": {
          "base_uri": "https://localhost:8080/",
          "height": 1000
        }
      },
      "source": [
        "# Installation cell\n",
        "%%shell\n",
        "if ! command -v julia 2>&1 > /dev/null\n",
        "then\n",
        "    wget 'https://julialang-s3.julialang.org/bin/linux/x64/1.4/julia-1.4.0-linux-x86_64.tar.gz' \\\n",
        "        -O /tmp/julia.tar.gz\n",
        "    tar -x -f /tmp/julia.tar.gz -C /usr/local --strip-components 1\n",
        "    rm /tmp/julia.tar.gz\n",
        "fi\n",
        "julia -e 'using Pkg; pkg\"add IJulia; precompile;\"'"
      ],
      "execution_count": 1,
      "outputs": [
        {
          "output_type": "stream",
          "text": [
            "--2020-04-04 08:01:45--  https://julialang-s3.julialang.org/bin/linux/x64/1.4/julia-1.4.0-linux-x86_64.tar.gz\n",
            "Resolving julialang-s3.julialang.org (julialang-s3.julialang.org)... 151.101.2.49, 151.101.66.49, 151.101.130.49, ...\n",
            "Connecting to julialang-s3.julialang.org (julialang-s3.julialang.org)|151.101.2.49|:443... connected.\n",
            "HTTP request sent, awaiting response... 302 gce internal redirect trigger\n",
            "Location: https://storage.googleapis.com/julialang2/bin/linux/x64/1.4/julia-1.4.0-linux-x86_64.tar.gz [following]\n",
            "--2020-04-04 08:01:46--  https://storage.googleapis.com/julialang2/bin/linux/x64/1.4/julia-1.4.0-linux-x86_64.tar.gz\n",
            "Resolving storage.googleapis.com (storage.googleapis.com)... 173.194.217.128, 2607:f8b0:400c:c15::80\n",
            "Connecting to storage.googleapis.com (storage.googleapis.com)|173.194.217.128|:443... connected.\n",
            "HTTP request sent, awaiting response... 200 OK\n",
            "Length: 98969249 (94M) [application/x-gzip]\n",
            "Saving to: ‘/tmp/julia.tar.gz’\n",
            "\n",
            "\r/tmp/julia.tar.gz     0%[                    ]       0  --.-KB/s               \r/tmp/julia.tar.gz    41%[=======>            ]  38.77M   194MB/s               \r/tmp/julia.tar.gz   100%[===================>]  94.38M   252MB/s    in 0.4s    \n",
            "\n",
            "2020-04-04 08:01:46 (252 MB/s) - ‘/tmp/julia.tar.gz’ saved [98969249/98969249]\n",
            "\n",
            "    Cloning default registries into `~/.julia`\n",
            "    Cloning registry from \"https://github.com/JuliaRegistries/General.git\"\n",
            "\u001b[2K\u001b[?25h      Added registry `General` to `~/.julia/registries/General`\n",
            "  Resolving package versions...\n",
            "  Installed SoftGlobalScope ─ v1.0.10\n",
            "  Installed VersionParsing ── v1.2.0\n",
            "  Installed IJulia ────────── v1.21.1\n",
            "  Installed Parsers ───────── v1.0.1\n",
            "  Installed Conda ─────────── v1.4.1\n",
            "  Installed ZMQ ───────────── v1.2.0\n",
            "  Installed BinaryProvider ── v0.5.8\n",
            "  Installed JSON ──────────── v0.21.0\n",
            "  Installed MbedTLS ───────── v0.7.0\n",
            "  Installed ZeroMQ_jll ────── v4.3.2+1\n",
            "Downloading artifact: ZeroMQ\n",
            "######################################################################## 100.0%\n",
            "\u001b[1A\u001b[2K\u001b[?25h   Updating `~/.julia/environments/v1.4/Project.toml`\n",
            "  [7073ff75] + IJulia v1.21.1\n",
            "   Updating `~/.julia/environments/v1.4/Manifest.toml`\n",
            "  [b99e7846] + BinaryProvider v0.5.8\n",
            "  [8f4d0f93] + Conda v1.4.1\n",
            "  [7073ff75] + IJulia v1.21.1\n",
            "  [682c06a0] + JSON v0.21.0\n",
            "  [739be429] + MbedTLS v0.7.0\n",
            "  [69de0a69] + Parsers v1.0.1\n",
            "  [b85f4697] + SoftGlobalScope v1.0.10\n",
            "  [81def892] + VersionParsing v1.2.0\n",
            "  [c2297ded] + ZMQ v1.2.0\n",
            "  [8f1865be] + ZeroMQ_jll v4.3.2+1\n",
            "  [2a0f44e3] + Base64 \n",
            "  [ade2ca70] + Dates \n",
            "  [8ba89e20] + Distributed \n",
            "  [7b1f6079] + FileWatching \n",
            "  [b77e0a4c] + InteractiveUtils \n",
            "  [76f85450] + LibGit2 \n",
            "  [8f399da3] + Libdl \n",
            "  [56ddb016] + Logging \n",
            "  [d6f4376e] + Markdown \n",
            "  [a63ad114] + Mmap \n",
            "  [44cfe95a] + Pkg \n",
            "  [de0858da] + Printf \n",
            "  [3fa0cd96] + REPL \n",
            "  [9a3f8284] + Random \n",
            "  [ea8e919c] + SHA \n",
            "  [9e88b42a] + Serialization \n",
            "  [6462fe0b] + Sockets \n",
            "  [8dfed614] + Test \n",
            "  [cf7118a7] + UUIDs \n",
            "  [4ec0a83e] + Unicode \n",
            "   Building Conda ──→ `~/.julia/packages/Conda/3rPhK/deps/build.log`\n",
            "   Building MbedTLS → `~/.julia/packages/MbedTLS/a1JFn/deps/build.log`\n",
            "   Building IJulia ─→ `~/.julia/packages/IJulia/yLI42/deps/build.log`\n",
            "Precompiling project...\n"
          ],
          "name": "stdout"
        },
        {
          "output_type": "execute_result",
          "data": {
            "text/plain": [
              ""
            ]
          },
          "metadata": {
            "tags": []
          },
          "execution_count": 1
        }
      ]
    },
    {
      "cell_type": "markdown",
      "metadata": {
        "id": "iBo-dPTRLK_W",
        "colab_type": "text"
      },
      "source": [
        "# The actual code"
      ]
    },
    {
      "cell_type": "code",
      "metadata": {
        "id": "dAyboU3dLL9s",
        "colab_type": "code",
        "colab": {
          "base_uri": "https://localhost:8080/",
          "height": 1000
        },
        "outputId": "42b62ca7-32b9-4309-92df-bb2acc905348"
      },
      "source": [
        "import Pkg; Pkg.add(\"CSVFiles\")\n",
        "Pkg.add(\"MLJ\")\n",
        "Pkg.add(\"DataFrames\")\n",
        "Pkg.add(\"PrettyPrinting\")\n",
        "Pkg.add(\"MLJModels\")\n",
        "Pkg.add(\"DecisionTree\")\n",
        "Pkg.add(\"XGBoost\")\n",
        "Pkg.add(\"Plots\")\n",
        "using Base\n",
        "using CSVFiles\n",
        "using DataFrames\n",
        "using Plots\n",
        "using MLJ\n",
        "using Statistics\n",
        "using PrettyPrinting\n",
        "\n",
        "train_data = DataFrame(CSVFiles.load(\"train.csv\"))\n",
        "test_data = DataFrame(CSVFiles.load(\"test.csv\"))\n",
        "tstart = size(train_data,1)\n",
        "\n",
        "aug = vcat(select(train_data,Not(:SalePrice)),test_data[:,:]) # For combined stats\n",
        "df = aug\n",
        "println(size(df))\n",
        "\n",
        "df = coerce(df,autotype(df,:discrete_to_continuous))\n",
        "df[!,:LotFrontage] = coalesce.(df[!,:LotFrontage],mean(skipmissing(df.LotFrontage)))\n",
        "df[!,:MasVnrArea] = coalesce.(df[!,:MasVnrArea],mean(skipmissing(df.MasVnrArea)))\n",
        "df[!,:BsmtFinSF1] = coalesce.(df[!,:BsmtFinSF1],mean(skipmissing(df.BsmtFinSF1)))\n",
        "df[!,:BsmtFinSF2] = coalesce.(df[!,:BsmtFinSF2],mean(skipmissing(df.BsmtFinSF2)))\n",
        "df[!,:TotalBsmtSF] = coalesce.(df[!,:TotalBsmtSF],mean(skipmissing(df.TotalBsmtSF)))\n",
        "df[!,:BsmtFullBath] = coalesce.(df[!,:BsmtFullBath],mean(skipmissing(df.BsmtFullBath)))\n",
        "df[!,:BsmtHalfBath] = coalesce.(df[!,:BsmtHalfBath],mean(skipmissing(df.BsmtHalfBath)))\n",
        "df[!,:GarageYrBlt] = coalesce.(df[!,:GarageYrBlt],mean(skipmissing(df.GarageYrBlt)))\n",
        "df[!,:GarageCars] = coalesce.(df[!,:GarageCars],mean(skipmissing(df.GarageCars)))\n",
        "df[!,:GarageArea] = coalesce.(df[!,:GarageArea],mean(skipmissing(df.GarageArea)))\n",
        "df[!,:BsmtUnfSF] = coalesce.(df[!,:BsmtUnfSF],mean(skipmissing(df.BsmtUnfSF)))\n",
        "df = coerce(df,autotype(df,:few_to_finite))\n",
        "aug=df\n",
        "\n",
        "df = aug[1:tstart,:]\n",
        "insertcols!(df,1,SalePrice=train_data[:,:SalePrice])\n",
        "df = coerce(df,autotype(df,:discrete_to_continuous))\n",
        "\n",
        "df2 = aug[tstart+1:end,:]\n",
        "\n",
        "schema(df2)\n",
        "\n",
        "selectedcols = [:SalePrice,:Id,:LotFrontage,:LotArea,:YearBuilt,:MasVnrArea,:BsmtFinSF1,:BsmtFinSF2,:BsmtUnfSF,:TotalBsmtSF,Symbol(\"1stFlrSF\"),Symbol(\"2ndFlrSF\"),:GrLivArea,:GarageYrBlt,:GarageArea,:WoodDeckSF,:OpenPorchSF,:EnclosedPorch,:ScreenPorch]\n",
        "# selectedcols = [Symbol(\"1stFlrSF\"),Symbol(\"2ndFlrSF\"),:SalePrice,:Id,:MSSubClass,:LotFrontage,:LotArea,:OverallQual,:OverallCond,:YearBuilt,:YearRemodAdd,:MasVnrArea,:BsmtFinSF1,:BsmtFinSF2,:BsmtUnfSF,:TotalBsmtSF,:LowQualFinSF,:GrLivArea,:BsmtFullBath,:BsmtHalfBath,:FullBath,:HalfBath,:BedroomAbvGr,:KitchenAbvGr,:TotRmsAbvGrd,:Fireplaces,:GarageYrBlt,:GarageCars,:GarageArea,:WoodDeckSF,:OpenPorchSF,:EnclosedPorch,Symbol(\"3SsnPorch\"),:ScreenPorch,:PoolArea,:MiscVal,:MoSold,:YrSold]\n",
        "df = df[:,selectedcols]\n",
        "schema(df)\n",
        "\n",
        "\n",
        "@load XGBoostRegressor verbosity = 0\n",
        "@load DecisionTreeRegressor\n",
        "\n",
        "tY, tX = unpack(df, ==(:SalePrice ), !=([:SalePrice,:Id]))\n",
        "\n",
        "\"XG\" |> pprintln\n",
        "xg = XGBoostRegressor()\n",
        "mach_xg = machine(xg, tX, tY)\n",
        "evaluate!(mach_xg, resampling=Holdout(fraction_train=0.7),\n",
        "          measure=mae) |> pprintln\n",
        "\n",
        "# \"DTR\" |> pprintln\n",
        "# dtr = DecisionTreeRegressor()\n",
        "# mach_dtr = machine(dtr, tX, tY)\n",
        "# evaluate!(mach_dtr, resampling=Holdout(fraction_train=0.7),\n",
        "#           measure=mae) |> pprintln\n",
        "\n",
        "# \"Tuned XG\" |> pprintln\n",
        "# r = range(xg, :max_depth, lower=1, upper=5)\n",
        "# tm = TunedModel(model=xg, ranges=[r,], measure=mae)\n",
        "# mach_xg_t = machine(tm, tX, tY)\n",
        "# MLJ.fit!(mach_xg_t)\n",
        "# evaluate!(mach_xg_t, resampling=Holdout(fraction_train=0.7),\n",
        "#           measure=mae) |> pprintln\n",
        "\n",
        "# \"Tuned DTR\" |> pprintln\n",
        "# r = range(dtr, :max_depth, lower=1, upper=1000)\n",
        "# tm = TunedModel(model=dtr, ranges=[r,], measure=mae)\n",
        "# mach_dtr_t = machine(tm, tX, tY)\n",
        "# MLJ.fit!(mach_dtr_t)\n",
        "# evaluate!(mach_dtr_t, resampling=Holdout(fraction_train=0.7),\n",
        "#           measure=mae) |> pprintln\n",
        "# fitted_params(mach_dtr_t).best_model\n",
        "\n",
        "\"Tuned XG ensemble\" |> pprintln\n",
        "em1 = EnsembleModel(atom=xg,n=10)\n",
        "r1 = range(em1, :(atom.max_depth), lower=1, upper=5)\n",
        "r2 = range(em1, :bagging_fraction, lower=0.4, upper=1.0)\n",
        "tem1 = TunedModel(model=em1,tuning=Grid(resolution=12), ranges=[r1, r2], measure=mae)\n",
        "mach_tem1 = machine(tem1,tX,tY)\n",
        "MLJ.fit!(mach_tem1)\n",
        "evaluate!(mach_tem1, resampling=Holdout(fraction_train=0.7),\n",
        "          measure=mae) |> pprintln\n"
      ],
      "execution_count": 14,
      "outputs": [
        {
          "output_type": "stream",
          "text": [
            "\u001b[32m\u001b[1m  Resolving\u001b[22m\u001b[39m package versions...\n",
            "\u001b[32m\u001b[1m   Updating\u001b[22m\u001b[39m `~/.julia/environments/v1.4/Project.toml`\n",
            "\u001b[90m [no changes]\u001b[39m\n",
            "\u001b[32m\u001b[1m   Updating\u001b[22m\u001b[39m `~/.julia/environments/v1.4/Manifest.toml`\n",
            "\u001b[90m [no changes]\u001b[39m\n",
            "\u001b[32m\u001b[1m  Resolving\u001b[22m\u001b[39m package versions...\n",
            "\u001b[32m\u001b[1m   Updating\u001b[22m\u001b[39m `~/.julia/environments/v1.4/Project.toml`\n",
            "\u001b[90m [no changes]\u001b[39m\n",
            "\u001b[32m\u001b[1m   Updating\u001b[22m\u001b[39m `~/.julia/environments/v1.4/Manifest.toml`\n",
            "\u001b[90m [no changes]\u001b[39m\n",
            "\u001b[32m\u001b[1m  Resolving\u001b[22m\u001b[39m package versions...\n",
            "\u001b[32m\u001b[1m   Updating\u001b[22m\u001b[39m `~/.julia/environments/v1.4/Project.toml`\n",
            "\u001b[90m [no changes]\u001b[39m\n",
            "\u001b[32m\u001b[1m   Updating\u001b[22m\u001b[39m `~/.julia/environments/v1.4/Manifest.toml`\n",
            "\u001b[90m [no changes]\u001b[39m\n",
            "\u001b[32m\u001b[1m  Resolving\u001b[22m\u001b[39m package versions...\n",
            "\u001b[32m\u001b[1m   Updating\u001b[22m\u001b[39m `~/.julia/environments/v1.4/Project.toml`\n",
            "\u001b[90m [no changes]\u001b[39m\n",
            "\u001b[32m\u001b[1m   Updating\u001b[22m\u001b[39m `~/.julia/environments/v1.4/Manifest.toml`\n",
            "\u001b[90m [no changes]\u001b[39m\n",
            "\u001b[32m\u001b[1m  Resolving\u001b[22m\u001b[39m package versions...\n",
            "\u001b[32m\u001b[1m   Updating\u001b[22m\u001b[39m `~/.julia/environments/v1.4/Project.toml`\n",
            "\u001b[90m [no changes]\u001b[39m\n",
            "\u001b[32m\u001b[1m   Updating\u001b[22m\u001b[39m `~/.julia/environments/v1.4/Manifest.toml`\n",
            "\u001b[90m [no changes]\u001b[39m\n",
            "\u001b[32m\u001b[1m  Resolving\u001b[22m\u001b[39m package versions...\n",
            "\u001b[32m\u001b[1m   Updating\u001b[22m\u001b[39m `~/.julia/environments/v1.4/Project.toml`\n",
            "\u001b[90m [no changes]\u001b[39m\n",
            "\u001b[32m\u001b[1m   Updating\u001b[22m\u001b[39m `~/.julia/environments/v1.4/Manifest.toml`\n",
            "\u001b[90m [no changes]\u001b[39m\n",
            "\u001b[32m\u001b[1m  Resolving\u001b[22m\u001b[39m package versions...\n",
            "\u001b[32m\u001b[1m   Updating\u001b[22m\u001b[39m `~/.julia/environments/v1.4/Project.toml`\n",
            "\u001b[90m [no changes]\u001b[39m\n",
            "\u001b[32m\u001b[1m   Updating\u001b[22m\u001b[39m `~/.julia/environments/v1.4/Manifest.toml`\n",
            "\u001b[90m [no changes]\u001b[39m\n",
            "\u001b[32m\u001b[1m  Resolving\u001b[22m\u001b[39m package versions...\n",
            "\u001b[32m\u001b[1m   Updating\u001b[22m\u001b[39m `~/.julia/environments/v1.4/Project.toml`\n",
            "\u001b[90m [no changes]\u001b[39m\n",
            "\u001b[32m\u001b[1m   Updating\u001b[22m\u001b[39m `~/.julia/environments/v1.4/Manifest.toml`\n",
            "\u001b[90m [no changes]\u001b[39m\n"
          ],
          "name": "stderr"
        },
        {
          "output_type": "stream",
          "text": [
            "(2919, 80)\n"
          ],
          "name": "stdout"
        },
        {
          "output_type": "stream",
          "text": [
            "┌ Info: A model type \"XGBoostRegressor\" is already loaded. \n",
            "│ No new code loaded. \n",
            "└ @ MLJModels /root/.julia/packages/MLJModels/gHake/src/loading.jl:43\n",
            "┌ Info: A model type \"DecisionTreeRegressor\" is already loaded. \n",
            "│ No new code loaded. \n",
            "└ @ MLJModels /root/.julia/packages/MLJModels/gHake/src/loading.jl:43\n"
          ],
          "name": "stderr"
        },
        {
          "output_type": "stream",
          "text": [
            "\"XG\"\n",
            "(measure = [mae],\n",
            " measurement = [23012.774266909248],\n",
            " per_fold = [[23012.774266909248]],\n",
            " per_observation = [missing])\n",
            "\"Tuned XG ensemble\"\n"
          ],
          "name": "stdout"
        },
        {
          "output_type": "stream",
          "text": [
            "┌ Info: Training \u001b[34mMachine{DeterministicTunedModel{Grid,…}} @ 5…36\u001b[39m.\n",
            "└ @ MLJBase /root/.julia/packages/MLJBase/ESDzL/src/machines.jl:182\n",
            "┌ Info: Attempting to evaluate 60 models.\n",
            "└ @ MLJTuning /root/.julia/packages/MLJTuning/VVra9/src/tuned_models.jl:362\n"
          ],
          "name": "stderr"
        },
        {
          "output_type": "stream",
          "text": [
            "(measure = [mae],\n",
            " measurement = [21130.945593428958],\n",
            " per_fold = [[21130.945593428958]],\n",
            " per_observation = [missing])\n"
          ],
          "name": "stdout"
        }
      ]
    },
    {
      "cell_type": "code",
      "metadata": {
        "id": "swbmBRR1Ljul",
        "colab_type": "code",
        "colab": {
          "base_uri": "https://localhost:8080/",
          "height": 474
        },
        "outputId": "d4fe27db-3aaf-4c5f-9790-86a9a12bde82"
      },
      "source": [
        "r = report(mach_tem1)\n",
        "res = r.plotting\n",
        "vals_sf = res.parameter_values[:, 1]\n",
        "vals_bf = res.parameter_values[:, 2]\n",
        "xa = vals_sf\n",
        "ya = vals_bf\n",
        "za = res.measurements\n",
        " size(sort(unique(xa))) |> pprintln\n",
        " size(sort(unique(ya))) |> pprintln\n",
        " size(za) |> pprintln\n",
        "p1 = Plots.contour(sort(unique(xa)), sort(unique(ya)),za, fill =true)\n",
        "#Plots.plot(p1)"
      ],
      "execution_count": 29,
      "outputs": [
        {
          "output_type": "stream",
          "text": [
            "(5,)\n",
            "(12,)\n",
            "(60,)\n"
          ],
          "name": "stdout"
        },
        {
          "output_type": "execute_result",
          "data": {
            "image/svg+xml": "<?xml version=\"1.0\" encoding=\"utf-8\"?>\n<svg xmlns=\"http://www.w3.org/2000/svg\" xmlns:xlink=\"http://www.w3.org/1999/xlink\" width=\"600\" height=\"400\" viewBox=\"0 0 2400 1600\">\n<defs>\n  <clipPath id=\"clip4000\">\n    <rect x=\"0\" y=\"0\" width=\"2400\" height=\"1600\"/>\n  </clipPath>\n</defs>\n<path clip-path=\"url(#clip4000)\" d=\"\nM0 1600 L2400 1600 L2400 0 L0 0  Z\n  \" fill=\"#ffffff\" fill-rule=\"evenodd\" fill-opacity=\"1\"/>\n<defs>\n  <clipPath id=\"clip4001\">\n    <rect x=\"480\" y=\"0\" width=\"1681\" height=\"1600\"/>\n  </clipPath>\n</defs>\n<path clip-path=\"url(#clip4000)\" d=\"\nM153.898 1487.47 L2112.76 1487.47 L2112.76 47.2441 L153.898 47.2441  Z\n  \" fill=\"#ffffff\" fill-rule=\"evenodd\" fill-opacity=\"1\"/>\n<defs>\n  <clipPath id=\"clip4002\">\n    <rect x=\"153\" y=\"47\" width=\"1960\" height=\"1441\"/>\n  </clipPath>\n</defs>\n<polyline clip-path=\"url(#clip4002)\" style=\"stroke:#000000; stroke-width:2; stroke-opacity:0.1; fill:none\" points=\"\n  153.898,1487.47 153.898,47.2441 \n  \"/>\n<polyline clip-path=\"url(#clip4002)\" style=\"stroke:#000000; stroke-width:2; stroke-opacity:0.1; fill:none\" points=\"\n  643.612,1487.47 643.612,47.2441 \n  \"/>\n<polyline clip-path=\"url(#clip4002)\" style=\"stroke:#000000; stroke-width:2; stroke-opacity:0.1; fill:none\" points=\"\n  1133.33,1487.47 1133.33,47.2441 \n  \"/>\n<polyline clip-path=\"url(#clip4002)\" style=\"stroke:#000000; stroke-width:2; stroke-opacity:0.1; fill:none\" points=\"\n  1623.04,1487.47 1623.04,47.2441 \n  \"/>\n<polyline clip-path=\"url(#clip4002)\" style=\"stroke:#000000; stroke-width:2; stroke-opacity:0.1; fill:none\" points=\"\n  2112.76,1487.47 2112.76,47.2441 \n  \"/>\n<polyline clip-path=\"url(#clip4002)\" style=\"stroke:#000000; stroke-width:2; stroke-opacity:0.1; fill:none\" points=\"\n  153.898,1487.47 2112.76,1487.47 \n  \"/>\n<polyline clip-path=\"url(#clip4002)\" style=\"stroke:#000000; stroke-width:2; stroke-opacity:0.1; fill:none\" points=\"\n  153.898,1247.44 2112.76,1247.44 \n  \"/>\n<polyline clip-path=\"url(#clip4002)\" style=\"stroke:#000000; stroke-width:2; stroke-opacity:0.1; fill:none\" points=\"\n  153.898,1007.4 2112.76,1007.4 \n  \"/>\n<polyline clip-path=\"url(#clip4002)\" style=\"stroke:#000000; stroke-width:2; stroke-opacity:0.1; fill:none\" points=\"\n  153.898,767.359 2112.76,767.359 \n  \"/>\n<polyline clip-path=\"url(#clip4002)\" style=\"stroke:#000000; stroke-width:2; stroke-opacity:0.1; fill:none\" points=\"\n  153.898,527.321 2112.76,527.321 \n  \"/>\n<polyline clip-path=\"url(#clip4002)\" style=\"stroke:#000000; stroke-width:2; stroke-opacity:0.1; fill:none\" points=\"\n  153.898,287.283 2112.76,287.283 \n  \"/>\n<polyline clip-path=\"url(#clip4002)\" style=\"stroke:#000000; stroke-width:2; stroke-opacity:0.1; fill:none\" points=\"\n  153.898,47.2441 2112.76,47.2441 \n  \"/>\n<polyline clip-path=\"url(#clip4000)\" style=\"stroke:#000000; stroke-width:4; stroke-opacity:1; fill:none\" points=\"\n  153.898,1487.47 2112.76,1487.47 \n  \"/>\n<polyline clip-path=\"url(#clip4000)\" style=\"stroke:#000000; stroke-width:4; stroke-opacity:1; fill:none\" points=\"\n  153.898,1487.47 153.898,47.2441 \n  \"/>\n<polyline clip-path=\"url(#clip4000)\" style=\"stroke:#000000; stroke-width:4; stroke-opacity:1; fill:none\" points=\"\n  153.898,1487.47 153.898,1470.19 \n  \"/>\n<polyline clip-path=\"url(#clip4000)\" style=\"stroke:#000000; stroke-width:4; stroke-opacity:1; fill:none\" points=\"\n  643.612,1487.47 643.612,1470.19 \n  \"/>\n<polyline clip-path=\"url(#clip4000)\" style=\"stroke:#000000; stroke-width:4; stroke-opacity:1; fill:none\" points=\"\n  1133.33,1487.47 1133.33,1470.19 \n  \"/>\n<polyline clip-path=\"url(#clip4000)\" style=\"stroke:#000000; stroke-width:4; stroke-opacity:1; fill:none\" points=\"\n  1623.04,1487.47 1623.04,1470.19 \n  \"/>\n<polyline clip-path=\"url(#clip4000)\" style=\"stroke:#000000; stroke-width:4; stroke-opacity:1; fill:none\" points=\"\n  2112.76,1487.47 2112.76,1470.19 \n  \"/>\n<polyline clip-path=\"url(#clip4000)\" style=\"stroke:#000000; stroke-width:4; stroke-opacity:1; fill:none\" points=\"\n  153.898,1487.47 177.404,1487.47 \n  \"/>\n<polyline clip-path=\"url(#clip4000)\" style=\"stroke:#000000; stroke-width:4; stroke-opacity:1; fill:none\" points=\"\n  153.898,1247.44 177.404,1247.44 \n  \"/>\n<polyline clip-path=\"url(#clip4000)\" style=\"stroke:#000000; stroke-width:4; stroke-opacity:1; fill:none\" points=\"\n  153.898,1007.4 177.404,1007.4 \n  \"/>\n<polyline clip-path=\"url(#clip4000)\" style=\"stroke:#000000; stroke-width:4; stroke-opacity:1; fill:none\" points=\"\n  153.898,767.359 177.404,767.359 \n  \"/>\n<polyline clip-path=\"url(#clip4000)\" style=\"stroke:#000000; stroke-width:4; stroke-opacity:1; fill:none\" points=\"\n  153.898,527.321 177.404,527.321 \n  \"/>\n<polyline clip-path=\"url(#clip4000)\" style=\"stroke:#000000; stroke-width:4; stroke-opacity:1; fill:none\" points=\"\n  153.898,287.283 177.404,287.283 \n  \"/>\n<polyline clip-path=\"url(#clip4000)\" style=\"stroke:#000000; stroke-width:4; stroke-opacity:1; fill:none\" points=\"\n  153.898,47.2441 177.404,47.2441 \n  \"/>\n<g clip-path=\"url(#clip4000)\">\n<text style=\"fill:#000000; fill-opacity:1; font-family:Arial,Helvetica Neue,Helvetica,sans-serif; font-size:48px; text-anchor:middle;\" transform=\"rotate(0, 153.898, 1541.47)\" x=\"153.898\" y=\"1541.47\">1</text>\n</g>\n<g clip-path=\"url(#clip4000)\">\n<text style=\"fill:#000000; fill-opacity:1; font-family:Arial,Helvetica Neue,Helvetica,sans-serif; font-size:48px; text-anchor:middle;\" transform=\"rotate(0, 643.612, 1541.47)\" x=\"643.612\" y=\"1541.47\">2</text>\n</g>\n<g clip-path=\"url(#clip4000)\">\n<text style=\"fill:#000000; fill-opacity:1; font-family:Arial,Helvetica Neue,Helvetica,sans-serif; font-size:48px; text-anchor:middle;\" transform=\"rotate(0, 1133.33, 1541.47)\" x=\"1133.33\" y=\"1541.47\">3</text>\n</g>\n<g clip-path=\"url(#clip4000)\">\n<text style=\"fill:#000000; fill-opacity:1; font-family:Arial,Helvetica Neue,Helvetica,sans-serif; font-size:48px; text-anchor:middle;\" transform=\"rotate(0, 1623.04, 1541.47)\" x=\"1623.04\" y=\"1541.47\">4</text>\n</g>\n<g clip-path=\"url(#clip4000)\">\n<text style=\"fill:#000000; fill-opacity:1; font-family:Arial,Helvetica Neue,Helvetica,sans-serif; font-size:48px; text-anchor:middle;\" transform=\"rotate(0, 2112.76, 1541.47)\" x=\"2112.76\" y=\"1541.47\">5</text>\n</g>\n<g clip-path=\"url(#clip4000)\">\n<text style=\"fill:#000000; fill-opacity:1; font-family:Arial,Helvetica Neue,Helvetica,sans-serif; font-size:48px; text-anchor:end;\" transform=\"rotate(0, 129.898, 1504.97)\" x=\"129.898\" y=\"1504.97\">0.4</text>\n</g>\n<g clip-path=\"url(#clip4000)\">\n<text style=\"fill:#000000; fill-opacity:1; font-family:Arial,Helvetica Neue,Helvetica,sans-serif; font-size:48px; text-anchor:end;\" transform=\"rotate(0, 129.898, 1264.94)\" x=\"129.898\" y=\"1264.94\">0.5</text>\n</g>\n<g clip-path=\"url(#clip4000)\">\n<text style=\"fill:#000000; fill-opacity:1; font-family:Arial,Helvetica Neue,Helvetica,sans-serif; font-size:48px; text-anchor:end;\" transform=\"rotate(0, 129.898, 1024.9)\" x=\"129.898\" y=\"1024.9\">0.6</text>\n</g>\n<g clip-path=\"url(#clip4000)\">\n<text style=\"fill:#000000; fill-opacity:1; font-family:Arial,Helvetica Neue,Helvetica,sans-serif; font-size:48px; text-anchor:end;\" transform=\"rotate(0, 129.898, 784.859)\" x=\"129.898\" y=\"784.859\">0.7</text>\n</g>\n<g clip-path=\"url(#clip4000)\">\n<text style=\"fill:#000000; fill-opacity:1; font-family:Arial,Helvetica Neue,Helvetica,sans-serif; font-size:48px; text-anchor:end;\" transform=\"rotate(0, 129.898, 544.821)\" x=\"129.898\" y=\"544.821\">0.8</text>\n</g>\n<g clip-path=\"url(#clip4000)\">\n<text style=\"fill:#000000; fill-opacity:1; font-family:Arial,Helvetica Neue,Helvetica,sans-serif; font-size:48px; text-anchor:end;\" transform=\"rotate(0, 129.898, 304.783)\" x=\"129.898\" y=\"304.783\">0.9</text>\n</g>\n<g clip-path=\"url(#clip4000)\">\n<text style=\"fill:#000000; fill-opacity:1; font-family:Arial,Helvetica Neue,Helvetica,sans-serif; font-size:48px; text-anchor:end;\" transform=\"rotate(0, 129.898, 64.7441)\" x=\"129.898\" y=\"64.7441\">1.0</text>\n</g>\n<path clip-path=\"url(#clip4002)\" d=\"\nM153.898 1487.47 L153.898 1487.47 L643.612 1487.47 L1133.33 1487.47 L1623.04 1487.47 L2112.76 1487.47 L2112.76 1487.47 L2112.76 1487.47 L2112.76 1487.47 L2112.76 1356.54 \n  L2112.76 1225.61 L2112.76 1094.68 L2112.76 963.754 L2112.76 832.824 L2112.76 701.894 L2112.76 570.964 L2112.76 440.034 L2112.76 309.104 L2112.76 178.174 L2112.76 47.2441 \n  L2112.76 47.2441 L2112.76 47.2441 L2112.76 47.2441 L1623.04 47.2441 L1133.33 47.2441 L643.612 47.2441 L153.898 47.2441 L153.898 47.2441 L153.898 47.2441 L153.898 47.2441 \n  L153.898 178.174 L153.898 309.104 L153.898 440.034 L153.898 570.964 L153.898 701.894 L153.898 832.824 L153.898 963.754 L153.898 1094.68 L153.898 1225.61 L153.898 1356.54 \n  L153.898 1487.47 L153.898 1487.47 L153.898 1487.47  Z\n  \" fill=\"#000003\" fill-rule=\"evenodd\" fill-opacity=\"1\"/>\n<path clip-path=\"url(#clip4002)\" d=\"\nM153.898 1487.47 L153.898 1487.47 L643.612 1487.47 L1133.33 1487.47 L1623.04 1487.47 L2112.76 1487.47 L2112.76 1487.47 L2112.76 1487.47 L2112.76 1487.47 L2112.76 1487.47 \n  L2112.76 1375.21 L2015.33 1356.54 L2112.76 1353.07 L2112.76 1356.54 L2112.76 1225.61 L2112.76 1094.68 L2112.76 963.754 L2112.76 832.824 L2112.76 701.894 L2112.76 570.964 \n  L2112.76 440.034 L2112.76 309.104 L2112.76 178.174 L2112.76 47.2441 L2112.76 47.2441 L2112.76 47.2441 L2112.76 47.2441 L1623.04 47.2441 L1133.33 47.2441 L1141.97 47.2441 \n  L1133.33 52.0976 L1094.9 47.2441 L643.612 47.2441 L643.612 47.2441 L153.898 47.2441 L153.898 47.2441 L153.898 47.2441 L153.898 47.2441 L153.898 178.174 L153.898 309.104 \n  L153.898 271.743 L227.445 309.104 L153.898 346.859 L153.898 440.034 L153.898 440.034 L153.898 570.964 L153.898 701.894 L153.898 832.824 L153.898 963.754 L153.898 1094.68 \n  L153.898 1225.61 L153.898 1356.54 L153.898 1487.47 L153.898 1487.47 L153.898 1487.47 M643.612 464.231 L661.285 440.034 L643.612 437.665 L623.756 440.034 \n  L643.612 464.231  Z\n  \" fill=\"#0c0727\" fill-rule=\"evenodd\" fill-opacity=\"1\"/>\n<path clip-path=\"url(#clip4002)\" d=\"\nM643.612 1487.47 L1133.33 1487.47 L1623.04 1487.47 L2112.76 1487.47 L2112.76 1487.47 L2112.76 1487.47 L2112.76 1487.47 L2112.76 1487.47 L2112.76 1440.16 L1676.2 1356.54 \n  L2112.76 1340.97 L2112.76 1356.54 L2112.76 1225.61 L2112.76 1094.68 L2112.76 963.754 L2112.76 832.824 L2112.76 701.894 L2112.76 570.964 L2112.76 440.034 L2112.76 309.104 \n  L2112.76 178.174 L2112.76 47.2441 L2112.76 47.2441 L2112.76 47.2441 L2112.76 47.2441 L1623.04 47.2441 L1133.33 47.2441 L1332.85 47.2441 L1133.33 159.277 L643.612 52.7528 \n  L464.053 47.2441 L153.898 47.2441 L153.898 47.2441 L153.898 47.2441 L153.898 47.2441 L153.898 47.2441 L153.898 178.174 L153.898 309.104 L153.898 234.382 L300.992 309.104 \n  L153.898 384.613 L153.898 440.034 L153.898 440.034 L153.898 570.964 L153.898 701.894 L153.898 832.824 L153.898 963.754 L153.898 1094.68 L153.898 1225.61 L153.898 1153.78 \n  L183.544 1225.61 L153.898 1231.75 L153.898 1356.54 L153.898 1356.54 L153.898 1487.47 L153.898 1484.2 L519.997 1487.47 L153.898 1487.47 L643.612 1487.47 M1623.04 967.233 L1719.31 963.754 L1623.04 955.501 L1607.9 963.754 L1623.04 967.233 M1133.33 846.769 L1231.71 832.824 L1133.33 789.81 L1057.24 832.824 \n  L1133.33 846.769 M643.612 578.809 L1133.33 618.157 L1306.54 570.964 L1133.33 540.567 L830.735 440.034 L643.612 414.945 L433.371 440.034 L623.962 570.964 \n  L643.612 578.809  Z\n  \" fill=\"#240b4e\" fill-rule=\"evenodd\" fill-opacity=\"1\"/>\n<path clip-path=\"url(#clip4002)\" d=\"\nM1133.33 1487.47 L1623.04 1487.47 L1623.04 1487.47 L2096.17 1487.47 L1623.04 1369.39 L1394.62 1356.54 L1623.04 1305.1 L2112.76 1328.87 L2112.76 1356.54 L2112.76 1225.61 \n  L2112.76 1094.68 L2112.76 1094.68 L2112.76 982.413 L1623.04 994.966 L1487.22 963.754 L1623.04 889.702 L1880.88 832.824 L2112.76 799.277 L2112.76 832.824 L2112.76 701.894 \n  L2112.76 570.964 L2112.76 440.034 L2112.76 309.104 L2112.76 178.174 L2112.76 47.2441 L2112.76 47.2441 L2112.76 47.2441 L2112.76 47.2441 L1623.04 47.2441 L1133.33 47.2441 \n  L1523.74 47.2441 L1357.98 178.174 L1133.33 195.736 L1094.85 178.174 L643.612 64.5202 L153.898 83.2563 L153.898 178.174 L153.898 178.174 L153.898 309.104 L153.898 197.021 \n  L374.539 309.104 L643.612 392.225 L1000.18 440.034 L1133.33 484.269 L1623.04 569.747 L1623.76 570.964 L1623.04 571.099 L1134.9 701.894 L1441.61 832.824 L1133.33 876.518 \n  L894.929 832.824 L1130.59 701.894 L643.612 593.339 L587.57 570.964 L242.986 440.034 L153.898 422.368 L153.898 440.034 L153.898 440.034 L153.898 570.964 L153.898 701.894 \n  L153.898 832.824 L153.898 963.754 L153.898 1094.68 L153.898 1070.75 L215.308 1094.68 L254.435 1225.61 L153.898 1246.41 L153.898 1356.54 L153.898 1356.54 L153.898 1487.47 \n  L153.898 1469.2 L616.29 1356.54 L643.612 1346.75 L797.952 1356.54 L695.884 1487.47 L643.612 1487.47 L1133.33 1487.47  Z\n  \" fill=\"#420a67\" fill-rule=\"evenodd\" fill-opacity=\"1\"/>\n<path clip-path=\"url(#clip4002)\" d=\"\nM1133.33 1487.47 L1623.04 1487.47 L1623.04 1487.47 L2035.13 1487.47 L1623.04 1384.63 L1133.33 1357.23 L752.32 1487.47 L643.612 1487.47 L1133.33 1487.47 M153.898 1487.47 L153.898 1454.21 L554.741 1356.54 L643.612 1324.68 L1133.33 1355.02 L1623.04 1244.09 L2112.76 1316.77 L2112.76 1356.54 L2112.76 1225.61 L2112.76 1094.68 \n  L2112.76 1094.68 L2112.76 1020.7 L1623.04 1022.7 L1366.54 963.754 L1133.33 906.266 L732.615 832.824 L1065.41 701.894 L643.612 607.868 L551.177 570.964 L153.898 446.119 \n  L153.898 570.964 L153.898 570.964 L153.898 701.894 L153.898 832.824 L153.898 963.754 L153.898 1094.68 L153.898 1034.26 L308.931 1094.68 L325.326 1225.61 L153.898 1261.07 \n  L153.898 1356.54 L153.898 1356.54 L153.898 1487.47 M1623.04 831.362 L2112.76 756.123 L2112.76 832.824 L2112.76 701.894 L2112.76 570.964 L2112.76 440.034 \n  L2112.76 440.034 L2112.76 384.59 L2070.31 309.104 L2112.76 297.541 L2112.76 309.104 L2112.76 178.174 L2112.76 178.174 L2112.76 56.9361 L1625.33 178.174 L1623.04 178.774 \n  L1133.33 217.057 L1048.13 178.174 L643.612 76.2876 L180.409 178.174 L448.086 309.104 L643.612 369.505 L1133.33 433.843 L1296.95 440.034 L1623.04 478.848 L1677.34 570.964 \n  L1623.04 581.16 L1172.45 701.894 L1623.04 831.362  Z\n  \" fill=\"#5d126d\" fill-rule=\"evenodd\" fill-opacity=\"1\"/>\n<path clip-path=\"url(#clip4002)\" d=\"\nM1133.33 1487.47 L1623.04 1487.47 L1623.04 1487.47 L1974.09 1487.47 L1623.04 1399.86 L1133.33 1376.52 L808.756 1487.47 L643.612 1487.47 L1133.33 1487.47 M153.898 1487.47 L153.898 1439.21 L493.192 1356.54 L643.612 1302.62 L1133.33 1311.96 L1496.71 1225.61 L1623.04 1185.8 L1670.26 1225.61 L2112.76 1304.67 L2112.76 1356.54 \n  L2112.76 1225.61 L2112.76 1094.68 L2112.76 1094.68 L2112.76 1058.98 L1623.04 1050.43 L1245.86 963.754 L1133.33 936.015 L643.612 875.549 L616.153 832.824 L643.612 822.841 \n  L1000.24 701.894 L643.612 622.397 L514.784 570.964 L153.898 457.556 L153.898 570.964 L153.898 570.964 L153.898 701.894 L153.898 690.53 L225.863 701.894 L153.898 716.335 \n  L153.898 832.824 L153.898 832.824 L153.898 963.754 L153.898 1094.68 L153.898 997.778 L402.554 1094.68 L396.217 1225.61 L153.898 1275.73 L153.898 1356.54 L153.898 1356.54 \n  L153.898 1487.47 M1623.04 820.573 L2112.76 712.969 L2112.76 832.824 L2112.76 701.894 L2112.76 570.964 L2112.76 570.964 L2112.76 449.778 L1730.92 570.964 \n  L1623.04 591.221 L1210 701.894 L1623.04 820.573 M643.612 346.786 L1133.33 404.95 L1623.04 426.868 L1997.29 309.104 L2112.76 277.651 L2112.76 309.104 \n  L2112.76 178.174 L2112.76 178.174 L2112.76 77.1384 L1706.55 178.174 L1623.04 200.052 L1133.33 238.378 L1001.41 178.174 L643.612 88.055 L233.906 178.174 L521.633 309.104 \n  L643.612 346.786  Z\n  \" fill=\"#781c6d\" fill-rule=\"evenodd\" fill-opacity=\"1\"/>\n<path clip-path=\"url(#clip4002)\" d=\"\nM1133.33 1487.47 L1623.04 1487.47 L1623.04 1487.47 L1913.05 1487.47 L1623.04 1415.09 L1133.33 1395.81 L865.192 1487.47 L643.612 1487.47 L1133.33 1487.47 M153.898 1487.47 L153.898 1424.21 L431.643 1356.54 L153.898 1290.39 L153.898 1356.54 L153.898 1356.54 L153.898 1487.47 M643.612 1280.55 L1133.33 1268.9 \n  L1315.49 1225.61 L1623.04 1128.7 L1737.98 1225.61 L2112.76 1292.57 L2112.76 1356.54 L2112.76 1225.61 L2112.76 1225.61 L2112.76 1096.26 L2062.89 1094.68 L1623.04 1078.16 \n  L1133.33 977.086 L643.612 969.138 L496.176 1094.68 L467.108 1225.61 L643.612 1280.55 M153.898 963.754 L153.898 962.429 L555.357 832.824 L643.612 800.736 \n  L935.057 701.894 L643.612 636.927 L478.391 570.964 L153.898 468.992 L153.898 570.964 L153.898 570.964 L153.898 701.894 L153.898 678.472 L302.213 701.894 L153.898 731.656 \n  L153.898 832.824 L153.898 832.824 L153.898 963.754 M1623.04 809.784 L2078.87 701.894 L2112.76 687.727 L2112.76 701.894 L2112.76 570.964 L2112.76 570.964 \n  L2112.76 466.783 L1784.5 570.964 L1623.04 601.283 L1247.55 701.894 L1623.04 809.784 M643.612 324.066 L1133.33 376.056 L1623.04 403.891 L1924.27 309.104 \n  L2112.76 257.76 L2112.76 309.104 L2112.76 178.174 L2112.76 178.174 L2112.76 97.3406 L1787.77 178.174 L1623.04 221.329 L1133.33 259.699 L954.687 178.174 L643.612 99.8225 \n  L287.404 178.174 L595.18 309.104 L643.612 324.066  Z\n  \" fill=\"#942666\" fill-rule=\"evenodd\" fill-opacity=\"1\"/>\n<path clip-path=\"url(#clip4002)\" d=\"\nM1133.33 1487.47 L1623.04 1487.47 L1623.04 1487.47 L1852.01 1487.47 L1623.04 1430.33 L1133.33 1415.11 L921.628 1487.47 L643.612 1487.47 L1133.33 1487.47 M153.898 1487.47 L153.898 1409.22 L370.094 1356.54 L153.898 1305.05 L153.898 1356.54 L153.898 1356.54 L153.898 1487.47 M643.612 1258.49 L1133.33 1225.84 \n  L1134.28 1225.61 L1133.33 1223.93 L931.099 1094.68 L643.612 1048.86 L589.799 1094.68 L537.999 1225.61 L643.612 1258.49 M2112.76 1280.47 L2112.76 1356.54 \n  L2112.76 1225.61 L2112.76 1225.61 L2112.76 1119.64 L1805.7 1225.61 L2112.76 1280.47 M153.898 963.754 L153.898 942.802 L494.561 832.824 L643.612 778.631 \n  L869.879 701.894 L643.612 651.456 L441.999 570.964 L153.898 480.428 L153.898 570.964 L153.898 570.964 L153.898 701.894 L153.898 666.415 L378.564 701.894 L153.898 746.977 \n  L153.898 832.824 L153.898 832.824 L153.898 963.754 M1623.04 798.995 L2033.29 701.894 L2112.76 668.668 L2112.76 701.894 L2112.76 570.964 L2112.76 570.964 \n  L2112.76 483.788 L1838.08 570.964 L1623.04 611.344 L1285.1 701.894 L1623.04 798.995 M1133.33 347.162 L1623.04 380.914 L1851.25 309.104 L1623.04 242.607 \n  L1133.33 281.021 L907.967 178.174 L643.612 111.59 L340.902 178.174 L643.612 301.652 L744.433 309.104 L1133.33 347.162 M2112.76 237.87 L2112.76 309.104 \n  L2112.76 178.174 L2112.76 178.174 L2112.76 117.543 L1868.99 178.174 L2112.76 237.87  Z\n  \" fill=\"#ad305b\" fill-rule=\"evenodd\" fill-opacity=\"1\"/>\n<path clip-path=\"url(#clip4002)\" d=\"\nM1133.33 1487.47 L1623.04 1487.47 L1623.04 1487.47 L1790.97 1487.47 L1623.04 1445.56 L1133.33 1434.4 L978.064 1487.47 L643.612 1487.47 L1133.33 1487.47 M153.898 1487.47 L153.898 1394.22 L308.545 1356.54 L153.898 1319.71 L153.898 1356.54 L153.898 1356.54 L153.898 1487.47 M643.612 1236.42 L805.187 1225.61 \n  L643.612 1155.53 L608.89 1225.61 L643.612 1236.42 M2112.76 1268.37 L2112.76 1356.54 L2112.76 1225.61 L2112.76 1225.61 L2112.76 1143.01 L1873.43 1225.61 \n  L2112.76 1268.37 M153.898 963.754 L153.898 923.175 L433.765 832.824 L153.898 762.297 L153.898 832.824 L153.898 832.824 L153.898 963.754 M643.612 756.526 L804.7 701.894 L643.612 665.985 L454.914 701.894 L643.612 756.526 M1623.04 788.206 L1987.7 701.894 L2112.76 649.609 L2112.76 701.894 \n  L2112.76 570.964 L2112.76 570.964 L2112.76 500.793 L1891.66 570.964 L1623.04 621.405 L1322.65 701.894 L1623.04 788.206 M153.898 701.894 L153.898 654.358 \n  L405.606 570.964 L153.898 491.865 L153.898 570.964 L153.898 570.964 L153.898 701.894 M1133.33 318.268 L1623.04 357.936 L1778.23 309.104 L1623.04 263.884 \n  L1133.33 302.342 L1039.68 309.104 L1133.33 318.268 M643.612 279.83 L861.248 178.174 L643.612 123.357 L394.4 178.174 L643.612 279.83 M2112.76 217.979 L2112.76 309.104 L2112.76 178.174 L2112.76 178.174 L2112.76 137.745 L1950.21 178.174 L2112.76 217.979  Z\n  \" fill=\"#c73e4c\" fill-rule=\"evenodd\" fill-opacity=\"1\"/>\n<path clip-path=\"url(#clip4002)\" d=\"\nM1133.33 1487.47 L1623.04 1487.47 L1623.04 1487.47 L1729.93 1487.47 L1623.04 1460.8 L1133.33 1453.69 L1034.5 1487.47 L643.612 1487.47 L1133.33 1487.47 M153.898 1487.47 L153.898 1379.23 L246.996 1356.54 L153.898 1334.37 L153.898 1356.54 L153.898 1356.54 L153.898 1487.47 M2112.76 1256.27 L2112.76 1356.54 \n  L2112.76 1225.61 L2112.76 1225.61 L2112.76 1166.39 L1941.15 1225.61 L2112.76 1256.27 M153.898 963.754 L153.898 903.548 L372.969 832.824 L153.898 777.618 \n  L153.898 832.824 L153.898 832.824 L153.898 963.754 M643.612 734.421 L739.521 701.894 L643.612 680.515 L531.265 701.894 L643.612 734.421 M1623.04 777.417 L1942.12 701.894 L2112.76 630.551 L2112.76 701.894 L2112.76 570.964 L2112.76 570.964 L2112.76 517.798 L1945.24 570.964 L1623.04 631.466 L1360.2 701.894 \n  L1623.04 777.417 M153.898 701.894 L153.898 642.301 L369.213 570.964 L153.898 503.301 L153.898 570.964 L153.898 570.964 L153.898 701.894 M1623.04 334.959 L1705.21 309.104 L1623.04 285.162 L1318.27 309.104 L1623.04 334.959 M643.612 258.008 L814.529 178.174 L643.612 135.125 L447.898 178.174 \n  L643.612 258.008 M2112.76 198.089 L2112.76 309.104 L2112.76 178.174 L2112.76 178.174 L2112.76 157.947 L2031.44 178.174 L2112.76 198.089  Z\n  \" fill=\"#db503a\" fill-rule=\"evenodd\" fill-opacity=\"1\"/>\n<path clip-path=\"url(#clip4002)\" d=\"\nM1133.33 1487.47 L1623.04 1487.47 L1623.04 1487.47 L1668.89 1487.47 L1623.04 1476.03 L1133.33 1472.98 L1090.94 1487.47 L643.612 1487.47 L1133.33 1487.47 M153.898 1487.47 L153.898 1364.23 L185.447 1356.54 L153.898 1349.03 L153.898 1356.54 L153.898 1356.54 L153.898 1487.47 M2112.76 1244.17 L2112.76 1356.54 \n  L2112.76 1225.61 L2112.76 1225.61 L2112.76 1189.76 L2008.87 1225.61 L2112.76 1244.17 M153.898 963.754 L153.898 883.921 L312.173 832.824 L153.898 792.939 \n  L153.898 832.824 L153.898 832.824 L153.898 963.754 M643.612 712.316 L674.343 701.894 L643.612 695.044 L607.615 701.894 L643.612 712.316 M1623.04 766.628 L1896.54 701.894 L1623.04 641.527 L1397.75 701.894 L1623.04 766.628 M153.898 701.894 L153.898 630.243 L332.821 570.964 L153.898 514.738 \n  L153.898 570.964 L153.898 570.964 L153.898 701.894 M2112.76 611.492 L2112.76 701.894 L2112.76 570.964 L2112.76 570.964 L2112.76 534.803 L1998.82 570.964 \n  L2112.76 611.492 M1623.04 311.982 L1632.19 309.104 L1623.04 306.44 L1589.12 309.104 L1623.04 311.982 M643.612 236.186 L767.809 178.174 \n  L643.612 146.892 L501.396 178.174 L643.612 236.186 M2112.76 178.199 L2112.76 309.104 L2112.76 178.174 L2112.76 178.174 L2112.76 178.149 L2112.66 178.174 \n  L2112.76 178.199  Z\n  \" fill=\"#ec6925\" fill-rule=\"evenodd\" fill-opacity=\"1\"/>\n<path clip-path=\"url(#clip4002)\" d=\"\nM2112.76 1232.07 L2112.76 1356.54 L2112.76 1225.61 L2112.76 1225.61 L2112.76 1213.14 L2076.6 1225.61 L2112.76 1232.07 M153.898 963.754 L153.898 864.294 \n  L251.377 832.824 L153.898 808.26 L153.898 832.824 L153.898 832.824 L153.898 963.754 M1623.04 755.839 L1850.96 701.894 L1623.04 651.589 L1435.3 701.894 \n  L1623.04 755.839 M153.898 701.894 L153.898 618.186 L296.428 570.964 L153.898 526.174 L153.898 570.964 L153.898 570.964 L153.898 701.894 M2112.76 592.433 L2112.76 701.894 L2112.76 570.964 L2112.76 570.964 L2112.76 551.808 L2052.4 570.964 L2112.76 592.433 M643.612 214.363 L721.09 178.174 \n  L643.612 158.66 L554.894 178.174 L643.612 214.363  Z\n  \" fill=\"#f7850e\" fill-rule=\"evenodd\" fill-opacity=\"1\"/>\n<path clip-path=\"url(#clip4002)\" d=\"\nM153.898 963.754 L153.898 844.667 L190.581 832.824 L153.898 823.58 L153.898 832.824 L153.898 832.824 L153.898 963.754 M1623.04 745.05 L1805.37 701.894 \n  L1623.04 661.65 L1472.84 701.894 L1623.04 745.05 M153.898 701.894 L153.898 606.129 L260.035 570.964 L153.898 537.611 L153.898 570.964 L153.898 570.964 \n  L153.898 701.894 M2112.76 573.375 L2112.76 701.894 L2112.76 570.964 L2112.76 570.964 L2112.76 568.814 L2105.98 570.964 L2112.76 573.375 M643.612 192.541 L674.371 178.174 L643.612 170.427 L608.392 178.174 L643.612 192.541  Z\n  \" fill=\"#fba40a\" fill-rule=\"evenodd\" fill-opacity=\"1\"/>\n<path clip-path=\"url(#clip4002)\" d=\"\nM1623.04 734.261 L1759.79 701.894 L1623.04 671.711 L1510.39 701.894 L1623.04 734.261 M153.898 701.894 L153.898 594.071 L223.643 570.964 L153.898 549.047 \n  L153.898 570.964 L153.898 570.964 L153.898 701.894  Z\n  \" fill=\"#f9c52d\" fill-rule=\"evenodd\" fill-opacity=\"1\"/>\n<path clip-path=\"url(#clip4002)\" d=\"\nM1623.04 723.472 L1714.21 701.894 L1623.04 681.772 L1547.94 701.894 L1623.04 723.472 M153.898 701.894 L153.898 582.014 L187.25 570.964 L153.898 560.483 \n  L153.898 570.964 L153.898 570.964 L153.898 701.894  Z\n  \" fill=\"#f2e55f\" fill-rule=\"evenodd\" fill-opacity=\"1\"/>\n<path clip-path=\"url(#clip4002)\" d=\"\nM1623.04 712.683 L1668.62 701.894 L1623.04 691.833 L1585.49 701.894 L1623.04 712.683  Z\n  \" fill=\"#fcfea4\" fill-rule=\"evenodd\" fill-opacity=\"1\"/>\n<polyline clip-path=\"url(#clip4002)\" style=\"stroke:#000000; stroke-width:4; stroke-opacity:1; fill:none\" points=\"\n  153.898,1487.47 153.898,1487.47 643.612,1487.47 1133.33,1487.47 1623.04,1487.47 2112.76,1487.47 2112.76,1356.54 \n  2112.76,1225.61 2112.76,1094.68 2112.76,963.754 2112.76,832.824 2112.76,701.894 2112.76,570.964 2112.76,440.034 2112.76,309.104 2112.76,178.174 2112.76,47.2441 \n  1623.04,47.2441 1133.33,47.2441 643.612,47.2441 153.898,47.2441 \n  153.898,178.174 153.898,309.104 153.898,440.034 153.898,570.964 153.898,701.894 153.898,832.824 153.898,963.754 153.898,1094.68 153.898,1225.61 153.898,1356.54 \n  153.898,1487.47 \n  \"/>\n<polyline clip-path=\"url(#clip4002)\" style=\"stroke:#000000; stroke-width:4; stroke-opacity:1; fill:none\" points=\"\n  153.898,1487.47 153.898,1487.47 643.612,1487.47 1133.33,1487.47 1623.04,1487.47 2112.76,1487.47 \n  2112.76,1375.21 2015.33,1356.54 2112.76,1353.07 2112.76,1356.54 2112.76,1225.61 2112.76,1094.68 2112.76,963.754 2112.76,832.824 2112.76,701.894 2112.76,570.964 \n  2112.76,440.034 2112.76,309.104 2112.76,178.174 2112.76,47.2441 1623.04,47.2441 1133.33,47.2441 1141.97,47.2441 \n  1133.33,52.0976 1094.9,47.2441 643.612,47.2441 153.898,47.2441 153.898,178.174 153.898,309.104 \n  153.898,271.743 227.445,309.104 153.898,346.859 153.898,440.034 153.898,570.964 153.898,701.894 153.898,832.824 153.898,963.754 153.898,1094.68 \n  153.898,1225.61 153.898,1356.54 153.898,1487.47 \n  \"/>\n<polyline clip-path=\"url(#clip4002)\" style=\"stroke:#000000; stroke-width:4; stroke-opacity:1; fill:none\" points=\"\n  643.612,464.231 661.285,440.034 643.612,437.665 623.756,440.034 643.612,464.231 \n  \"/>\n<polyline clip-path=\"url(#clip4002)\" style=\"stroke:#000000; stroke-width:4; stroke-opacity:1; fill:none\" points=\"\n  643.612,1487.47 1133.33,1487.47 1623.04,1487.47 2112.76,1487.47 2112.76,1440.16 1676.2,1356.54 \n  2112.76,1340.97 2112.76,1356.54 2112.76,1225.61 2112.76,1094.68 2112.76,963.754 2112.76,832.824 2112.76,701.894 2112.76,570.964 2112.76,440.034 2112.76,309.104 \n  2112.76,178.174 2112.76,47.2441 1623.04,47.2441 1133.33,47.2441 1332.85,47.2441 1133.33,159.277 643.612,52.7528 \n  464.053,47.2441 153.898,47.2441 153.898,178.174 153.898,309.104 153.898,234.382 300.992,309.104 \n  153.898,384.613 153.898,440.034 153.898,570.964 153.898,701.894 153.898,832.824 153.898,963.754 153.898,1094.68 153.898,1225.61 153.898,1153.78 \n  183.544,1225.61 153.898,1231.75 153.898,1356.54 153.898,1487.47 153.898,1484.2 519.997,1487.47 153.898,1487.47 643.612,1487.47 \n  \"/>\n<polyline clip-path=\"url(#clip4002)\" style=\"stroke:#000000; stroke-width:4; stroke-opacity:1; fill:none\" points=\"\n  1623.04,967.233 1719.31,963.754 1623.04,955.501 1607.9,963.754 1623.04,967.233 \n  \"/>\n<polyline clip-path=\"url(#clip4002)\" style=\"stroke:#000000; stroke-width:4; stroke-opacity:1; fill:none\" points=\"\n  1133.33,846.769 1231.71,832.824 1133.33,789.81 1057.24,832.824 1133.33,846.769 \n  \"/>\n<polyline clip-path=\"url(#clip4002)\" style=\"stroke:#000000; stroke-width:4; stroke-opacity:1; fill:none\" points=\"\n  643.612,578.809 1133.33,618.157 1306.54,570.964 1133.33,540.567 830.735,440.034 643.612,414.945 433.371,440.034 623.962,570.964 643.612,578.809 \n  \"/>\n<polyline clip-path=\"url(#clip4002)\" style=\"stroke:#000000; stroke-width:4; stroke-opacity:1; fill:none\" points=\"\n  1133.33,1487.47 1623.04,1487.47 2096.17,1487.47 1623.04,1369.39 1394.62,1356.54 1623.04,1305.1 2112.76,1328.87 2112.76,1356.54 2112.76,1225.61 \n  2112.76,1094.68 2112.76,982.413 1623.04,994.966 1487.22,963.754 1623.04,889.702 1880.88,832.824 2112.76,799.277 2112.76,832.824 2112.76,701.894 \n  2112.76,570.964 2112.76,440.034 2112.76,309.104 2112.76,178.174 2112.76,47.2441 1623.04,47.2441 1133.33,47.2441 \n  1523.74,47.2441 1357.98,178.174 1133.33,195.736 1094.85,178.174 643.612,64.5202 153.898,83.2563 153.898,178.174 153.898,309.104 153.898,197.021 \n  374.539,309.104 643.612,392.225 1000.18,440.034 1133.33,484.269 1623.04,569.747 1623.76,570.964 1623.04,571.099 1134.9,701.894 1441.61,832.824 1133.33,876.518 \n  894.929,832.824 1130.59,701.894 643.612,593.339 587.57,570.964 242.986,440.034 153.898,422.368 153.898,440.034 153.898,570.964 153.898,701.894 \n  153.898,832.824 153.898,963.754 153.898,1094.68 153.898,1070.75 215.308,1094.68 254.435,1225.61 153.898,1246.41 153.898,1356.54 153.898,1487.47 \n  153.898,1469.2 616.29,1356.54 643.612,1346.75 797.952,1356.54 695.884,1487.47 643.612,1487.47 1133.33,1487.47 \n  \"/>\n<polyline clip-path=\"url(#clip4002)\" style=\"stroke:#000000; stroke-width:4; stroke-opacity:1; fill:none\" points=\"\n  1133.33,1487.47 1623.04,1487.47 2035.13,1487.47 1623.04,1384.63 1133.33,1357.23 752.32,1487.47 643.612,1487.47 1133.33,1487.47 \n  \"/>\n<polyline clip-path=\"url(#clip4002)\" style=\"stroke:#000000; stroke-width:4; stroke-opacity:1; fill:none\" points=\"\n  153.898,1487.47 153.898,1454.21 554.741,1356.54 643.612,1324.68 1133.33,1355.02 1623.04,1244.09 2112.76,1316.77 2112.76,1356.54 2112.76,1225.61 2112.76,1094.68 \n  2112.76,1020.7 1623.04,1022.7 1366.54,963.754 1133.33,906.266 732.615,832.824 1065.41,701.894 643.612,607.868 551.177,570.964 153.898,446.119 \n  153.898,570.964 153.898,701.894 153.898,832.824 153.898,963.754 153.898,1094.68 153.898,1034.26 308.931,1094.68 325.326,1225.61 153.898,1261.07 \n  153.898,1356.54 153.898,1487.47 \n  \"/>\n<polyline clip-path=\"url(#clip4002)\" style=\"stroke:#000000; stroke-width:4; stroke-opacity:1; fill:none\" points=\"\n  1623.04,831.362 2112.76,756.123 2112.76,832.824 2112.76,701.894 2112.76,570.964 2112.76,440.034 2112.76,384.59 2070.31,309.104 2112.76,297.541 \n  2112.76,309.104 2112.76,178.174 2112.76,56.9361 1625.33,178.174 1623.04,178.774 1133.33,217.057 1048.13,178.174 643.612,76.2876 180.409,178.174 \n  448.086,309.104 643.612,369.505 1133.33,433.843 1296.95,440.034 1623.04,478.848 1677.34,570.964 1623.04,581.16 1172.45,701.894 1623.04,831.362 \n  \"/>\n<polyline clip-path=\"url(#clip4002)\" style=\"stroke:#000000; stroke-width:4; stroke-opacity:1; fill:none\" points=\"\n  1133.33,1487.47 1623.04,1487.47 1974.09,1487.47 1623.04,1399.86 1133.33,1376.52 808.756,1487.47 643.612,1487.47 1133.33,1487.47 \n  \"/>\n<polyline clip-path=\"url(#clip4002)\" style=\"stroke:#000000; stroke-width:4; stroke-opacity:1; fill:none\" points=\"\n  153.898,1487.47 153.898,1439.21 493.192,1356.54 643.612,1302.62 1133.33,1311.96 1496.71,1225.61 1623.04,1185.8 1670.26,1225.61 2112.76,1304.67 2112.76,1356.54 \n  2112.76,1225.61 2112.76,1094.68 2112.76,1058.98 1623.04,1050.43 1245.86,963.754 1133.33,936.015 643.612,875.549 616.153,832.824 643.612,822.841 \n  1000.24,701.894 643.612,622.397 514.784,570.964 153.898,457.556 153.898,570.964 153.898,701.894 153.898,690.53 225.863,701.894 153.898,716.335 \n  153.898,832.824 153.898,963.754 153.898,1094.68 153.898,997.778 402.554,1094.68 396.217,1225.61 153.898,1275.73 153.898,1356.54 \n  153.898,1487.47 \n  \"/>\n<polyline clip-path=\"url(#clip4002)\" style=\"stroke:#000000; stroke-width:4; stroke-opacity:1; fill:none\" points=\"\n  1623.04,820.573 2112.76,712.969 2112.76,832.824 2112.76,701.894 2112.76,570.964 2112.76,449.778 1730.92,570.964 1623.04,591.221 1210,701.894 \n  1623.04,820.573 \n  \"/>\n<polyline clip-path=\"url(#clip4002)\" style=\"stroke:#000000; stroke-width:4; stroke-opacity:1; fill:none\" points=\"\n  643.612,346.786 1133.33,404.95 1623.04,426.868 1997.29,309.104 2112.76,277.651 2112.76,309.104 2112.76,178.174 2112.76,77.1384 1706.55,178.174 \n  1623.04,200.052 1133.33,238.378 1001.41,178.174 643.612,88.055 233.906,178.174 521.633,309.104 643.612,346.786 \n  \"/>\n<polyline clip-path=\"url(#clip4002)\" style=\"stroke:#000000; stroke-width:4; stroke-opacity:1; fill:none\" points=\"\n  1133.33,1487.47 1623.04,1487.47 1913.05,1487.47 1623.04,1415.09 1133.33,1395.81 865.192,1487.47 643.612,1487.47 1133.33,1487.47 \n  \"/>\n<polyline clip-path=\"url(#clip4002)\" style=\"stroke:#000000; stroke-width:4; stroke-opacity:1; fill:none\" points=\"\n  153.898,1487.47 153.898,1424.21 431.643,1356.54 153.898,1290.39 153.898,1356.54 153.898,1487.47 \n  \"/>\n<polyline clip-path=\"url(#clip4002)\" style=\"stroke:#000000; stroke-width:4; stroke-opacity:1; fill:none\" points=\"\n  643.612,1280.55 1133.33,1268.9 1315.49,1225.61 1623.04,1128.7 1737.98,1225.61 2112.76,1292.57 2112.76,1356.54 2112.76,1225.61 2112.76,1096.26 \n  2062.89,1094.68 1623.04,1078.16 1133.33,977.086 643.612,969.138 496.176,1094.68 467.108,1225.61 643.612,1280.55 \n  \"/>\n<polyline clip-path=\"url(#clip4002)\" style=\"stroke:#000000; stroke-width:4; stroke-opacity:1; fill:none\" points=\"\n  153.898,963.754 153.898,962.429 555.357,832.824 643.612,800.736 935.057,701.894 643.612,636.927 478.391,570.964 153.898,468.992 153.898,570.964 \n  153.898,701.894 153.898,678.472 302.213,701.894 153.898,731.656 153.898,832.824 153.898,963.754 \n  \"/>\n<polyline clip-path=\"url(#clip4002)\" style=\"stroke:#000000; stroke-width:4; stroke-opacity:1; fill:none\" points=\"\n  1623.04,809.784 2078.87,701.894 2112.76,687.727 2112.76,701.894 2112.76,570.964 2112.76,466.783 1784.5,570.964 1623.04,601.283 1247.55,701.894 \n  1623.04,809.784 \n  \"/>\n<polyline clip-path=\"url(#clip4002)\" style=\"stroke:#000000; stroke-width:4; stroke-opacity:1; fill:none\" points=\"\n  643.612,324.066 1133.33,376.056 1623.04,403.891 1924.27,309.104 2112.76,257.76 2112.76,309.104 2112.76,178.174 2112.76,97.3406 1787.77,178.174 \n  1623.04,221.329 1133.33,259.699 954.687,178.174 643.612,99.8225 287.404,178.174 595.18,309.104 643.612,324.066 \n  \"/>\n<polyline clip-path=\"url(#clip4002)\" style=\"stroke:#000000; stroke-width:4; stroke-opacity:1; fill:none\" points=\"\n  1133.33,1487.47 1623.04,1487.47 1852.01,1487.47 1623.04,1430.33 1133.33,1415.11 921.628,1487.47 643.612,1487.47 1133.33,1487.47 \n  \"/>\n<polyline clip-path=\"url(#clip4002)\" style=\"stroke:#000000; stroke-width:4; stroke-opacity:1; fill:none\" points=\"\n  153.898,1487.47 153.898,1409.22 370.094,1356.54 153.898,1305.05 153.898,1356.54 153.898,1487.47 \n  \"/>\n<polyline clip-path=\"url(#clip4002)\" style=\"stroke:#000000; stroke-width:4; stroke-opacity:1; fill:none\" points=\"\n  643.612,1258.49 1133.33,1225.84 1134.28,1225.61 1133.33,1223.93 931.099,1094.68 643.612,1048.86 589.799,1094.68 537.999,1225.61 643.612,1258.49 \n  \"/>\n<polyline clip-path=\"url(#clip4002)\" style=\"stroke:#000000; stroke-width:4; stroke-opacity:1; fill:none\" points=\"\n  2112.76,1280.47 2112.76,1356.54 2112.76,1225.61 2112.76,1119.64 1805.7,1225.61 2112.76,1280.47 \n  \"/>\n<polyline clip-path=\"url(#clip4002)\" style=\"stroke:#000000; stroke-width:4; stroke-opacity:1; fill:none\" points=\"\n  153.898,963.754 153.898,942.802 494.561,832.824 643.612,778.631 869.879,701.894 643.612,651.456 441.999,570.964 153.898,480.428 153.898,570.964 \n  153.898,701.894 153.898,666.415 378.564,701.894 153.898,746.977 153.898,832.824 153.898,963.754 \n  \"/>\n<polyline clip-path=\"url(#clip4002)\" style=\"stroke:#000000; stroke-width:4; stroke-opacity:1; fill:none\" points=\"\n  1623.04,798.995 2033.29,701.894 2112.76,668.668 2112.76,701.894 2112.76,570.964 2112.76,483.788 1838.08,570.964 1623.04,611.344 1285.1,701.894 \n  1623.04,798.995 \n  \"/>\n<polyline clip-path=\"url(#clip4002)\" style=\"stroke:#000000; stroke-width:4; stroke-opacity:1; fill:none\" points=\"\n  1133.33,347.162 1623.04,380.914 1851.25,309.104 1623.04,242.607 1133.33,281.021 907.967,178.174 643.612,111.59 340.902,178.174 643.612,301.652 744.433,309.104 \n  1133.33,347.162 \n  \"/>\n<polyline clip-path=\"url(#clip4002)\" style=\"stroke:#000000; stroke-width:4; stroke-opacity:1; fill:none\" points=\"\n  2112.76,237.87 2112.76,309.104 2112.76,178.174 2112.76,117.543 1868.99,178.174 2112.76,237.87 \n  \"/>\n<polyline clip-path=\"url(#clip4002)\" style=\"stroke:#000000; stroke-width:4; stroke-opacity:1; fill:none\" points=\"\n  1133.33,1487.47 1623.04,1487.47 1790.97,1487.47 1623.04,1445.56 1133.33,1434.4 978.064,1487.47 643.612,1487.47 1133.33,1487.47 \n  \"/>\n<polyline clip-path=\"url(#clip4002)\" style=\"stroke:#000000; stroke-width:4; stroke-opacity:1; fill:none\" points=\"\n  153.898,1487.47 153.898,1394.22 308.545,1356.54 153.898,1319.71 153.898,1356.54 153.898,1487.47 \n  \"/>\n<polyline clip-path=\"url(#clip4002)\" style=\"stroke:#000000; stroke-width:4; stroke-opacity:1; fill:none\" points=\"\n  643.612,1236.42 805.187,1225.61 643.612,1155.53 608.89,1225.61 643.612,1236.42 \n  \"/>\n<polyline clip-path=\"url(#clip4002)\" style=\"stroke:#000000; stroke-width:4; stroke-opacity:1; fill:none\" points=\"\n  2112.76,1268.37 2112.76,1356.54 2112.76,1225.61 2112.76,1143.01 1873.43,1225.61 2112.76,1268.37 \n  \"/>\n<polyline clip-path=\"url(#clip4002)\" style=\"stroke:#000000; stroke-width:4; stroke-opacity:1; fill:none\" points=\"\n  153.898,963.754 153.898,923.175 433.765,832.824 153.898,762.297 153.898,832.824 153.898,963.754 \n  \"/>\n<polyline clip-path=\"url(#clip4002)\" style=\"stroke:#000000; stroke-width:4; stroke-opacity:1; fill:none\" points=\"\n  643.612,756.526 804.7,701.894 643.612,665.985 454.914,701.894 643.612,756.526 \n  \"/>\n<polyline clip-path=\"url(#clip4002)\" style=\"stroke:#000000; stroke-width:4; stroke-opacity:1; fill:none\" points=\"\n  1623.04,788.206 1987.7,701.894 2112.76,649.609 2112.76,701.894 2112.76,570.964 2112.76,500.793 1891.66,570.964 1623.04,621.405 1322.65,701.894 \n  1623.04,788.206 \n  \"/>\n<polyline clip-path=\"url(#clip4002)\" style=\"stroke:#000000; stroke-width:4; stroke-opacity:1; fill:none\" points=\"\n  153.898,701.894 153.898,654.358 405.606,570.964 153.898,491.865 153.898,570.964 153.898,701.894 \n  \"/>\n<polyline clip-path=\"url(#clip4002)\" style=\"stroke:#000000; stroke-width:4; stroke-opacity:1; fill:none\" points=\"\n  1133.33,318.268 1623.04,357.936 1778.23,309.104 1623.04,263.884 1133.33,302.342 1039.68,309.104 1133.33,318.268 \n  \"/>\n<polyline clip-path=\"url(#clip4002)\" style=\"stroke:#000000; stroke-width:4; stroke-opacity:1; fill:none\" points=\"\n  643.612,279.83 861.248,178.174 643.612,123.357 394.4,178.174 643.612,279.83 \n  \"/>\n<polyline clip-path=\"url(#clip4002)\" style=\"stroke:#000000; stroke-width:4; stroke-opacity:1; fill:none\" points=\"\n  2112.76,217.979 2112.76,309.104 2112.76,178.174 2112.76,137.745 1950.21,178.174 2112.76,217.979 \n  \"/>\n<polyline clip-path=\"url(#clip4002)\" style=\"stroke:#000000; stroke-width:4; stroke-opacity:1; fill:none\" points=\"\n  1133.33,1487.47 1623.04,1487.47 1729.93,1487.47 1623.04,1460.8 1133.33,1453.69 1034.5,1487.47 643.612,1487.47 1133.33,1487.47 \n  \"/>\n<polyline clip-path=\"url(#clip4002)\" style=\"stroke:#000000; stroke-width:4; stroke-opacity:1; fill:none\" points=\"\n  153.898,1487.47 153.898,1379.23 246.996,1356.54 153.898,1334.37 153.898,1356.54 153.898,1487.47 \n  \"/>\n<polyline clip-path=\"url(#clip4002)\" style=\"stroke:#000000; stroke-width:4; stroke-opacity:1; fill:none\" points=\"\n  2112.76,1256.27 2112.76,1356.54 2112.76,1225.61 2112.76,1166.39 1941.15,1225.61 2112.76,1256.27 \n  \"/>\n<polyline clip-path=\"url(#clip4002)\" style=\"stroke:#000000; stroke-width:4; stroke-opacity:1; fill:none\" points=\"\n  153.898,963.754 153.898,903.548 372.969,832.824 153.898,777.618 153.898,832.824 153.898,963.754 \n  \"/>\n<polyline clip-path=\"url(#clip4002)\" style=\"stroke:#000000; stroke-width:4; stroke-opacity:1; fill:none\" points=\"\n  643.612,734.421 739.521,701.894 643.612,680.515 531.265,701.894 643.612,734.421 \n  \"/>\n<polyline clip-path=\"url(#clip4002)\" style=\"stroke:#000000; stroke-width:4; stroke-opacity:1; fill:none\" points=\"\n  1623.04,777.417 1942.12,701.894 2112.76,630.551 2112.76,701.894 2112.76,570.964 2112.76,517.798 1945.24,570.964 1623.04,631.466 1360.2,701.894 \n  1623.04,777.417 \n  \"/>\n<polyline clip-path=\"url(#clip4002)\" style=\"stroke:#000000; stroke-width:4; stroke-opacity:1; fill:none\" points=\"\n  153.898,701.894 153.898,642.301 369.213,570.964 153.898,503.301 153.898,570.964 153.898,701.894 \n  \"/>\n<polyline clip-path=\"url(#clip4002)\" style=\"stroke:#000000; stroke-width:4; stroke-opacity:1; fill:none\" points=\"\n  1623.04,334.959 1705.21,309.104 1623.04,285.162 1318.27,309.104 1623.04,334.959 \n  \"/>\n<polyline clip-path=\"url(#clip4002)\" style=\"stroke:#000000; stroke-width:4; stroke-opacity:1; fill:none\" points=\"\n  643.612,258.008 814.529,178.174 643.612,135.125 447.898,178.174 643.612,258.008 \n  \"/>\n<polyline clip-path=\"url(#clip4002)\" style=\"stroke:#000000; stroke-width:4; stroke-opacity:1; fill:none\" points=\"\n  2112.76,198.089 2112.76,309.104 2112.76,178.174 2112.76,157.947 2031.44,178.174 2112.76,198.089 \n  \"/>\n<polyline clip-path=\"url(#clip4002)\" style=\"stroke:#000000; stroke-width:4; stroke-opacity:1; fill:none\" points=\"\n  1133.33,1487.47 1623.04,1487.47 1668.89,1487.47 1623.04,1476.03 1133.33,1472.98 1090.94,1487.47 643.612,1487.47 1133.33,1487.47 \n  \"/>\n<polyline clip-path=\"url(#clip4002)\" style=\"stroke:#000000; stroke-width:4; stroke-opacity:1; fill:none\" points=\"\n  153.898,1487.47 153.898,1364.23 185.447,1356.54 153.898,1349.03 153.898,1356.54 153.898,1487.47 \n  \"/>\n<polyline clip-path=\"url(#clip4002)\" style=\"stroke:#000000; stroke-width:4; stroke-opacity:1; fill:none\" points=\"\n  2112.76,1244.17 2112.76,1356.54 2112.76,1225.61 2112.76,1189.76 2008.87,1225.61 2112.76,1244.17 \n  \"/>\n<polyline clip-path=\"url(#clip4002)\" style=\"stroke:#000000; stroke-width:4; stroke-opacity:1; fill:none\" points=\"\n  153.898,963.754 153.898,883.921 312.173,832.824 153.898,792.939 153.898,832.824 153.898,963.754 \n  \"/>\n<polyline clip-path=\"url(#clip4002)\" style=\"stroke:#000000; stroke-width:4; stroke-opacity:1; fill:none\" points=\"\n  643.612,712.316 674.343,701.894 643.612,695.044 607.615,701.894 643.612,712.316 \n  \"/>\n<polyline clip-path=\"url(#clip4002)\" style=\"stroke:#000000; stroke-width:4; stroke-opacity:1; fill:none\" points=\"\n  1623.04,766.628 1896.54,701.894 1623.04,641.527 1397.75,701.894 1623.04,766.628 \n  \"/>\n<polyline clip-path=\"url(#clip4002)\" style=\"stroke:#000000; stroke-width:4; stroke-opacity:1; fill:none\" points=\"\n  153.898,701.894 153.898,630.243 332.821,570.964 153.898,514.738 153.898,570.964 153.898,701.894 \n  \"/>\n<polyline clip-path=\"url(#clip4002)\" style=\"stroke:#000000; stroke-width:4; stroke-opacity:1; fill:none\" points=\"\n  2112.76,611.492 2112.76,701.894 2112.76,570.964 2112.76,534.803 1998.82,570.964 2112.76,611.492 \n  \"/>\n<polyline clip-path=\"url(#clip4002)\" style=\"stroke:#000000; stroke-width:4; stroke-opacity:1; fill:none\" points=\"\n  1623.04,311.982 1632.19,309.104 1623.04,306.44 1589.12,309.104 1623.04,311.982 \n  \"/>\n<polyline clip-path=\"url(#clip4002)\" style=\"stroke:#000000; stroke-width:4; stroke-opacity:1; fill:none\" points=\"\n  643.612,236.186 767.809,178.174 643.612,146.892 501.396,178.174 643.612,236.186 \n  \"/>\n<polyline clip-path=\"url(#clip4002)\" style=\"stroke:#000000; stroke-width:4; stroke-opacity:1; fill:none\" points=\"\n  2112.76,178.199 2112.76,309.104 2112.76,178.174 2112.76,178.149 2112.66,178.174 2112.76,178.199 \n  \"/>\n<polyline clip-path=\"url(#clip4002)\" style=\"stroke:#000000; stroke-width:4; stroke-opacity:1; fill:none\" points=\"\n  2112.76,1232.07 2112.76,1356.54 2112.76,1225.61 2112.76,1213.14 2076.6,1225.61 2112.76,1232.07 \n  \"/>\n<polyline clip-path=\"url(#clip4002)\" style=\"stroke:#000000; stroke-width:4; stroke-opacity:1; fill:none\" points=\"\n  153.898,963.754 153.898,864.294 251.377,832.824 153.898,808.26 153.898,832.824 153.898,963.754 \n  \"/>\n<polyline clip-path=\"url(#clip4002)\" style=\"stroke:#000000; stroke-width:4; stroke-opacity:1; fill:none\" points=\"\n  1623.04,755.839 1850.96,701.894 1623.04,651.589 1435.3,701.894 1623.04,755.839 \n  \"/>\n<polyline clip-path=\"url(#clip4002)\" style=\"stroke:#000000; stroke-width:4; stroke-opacity:1; fill:none\" points=\"\n  153.898,701.894 153.898,618.186 296.428,570.964 153.898,526.174 153.898,570.964 153.898,701.894 \n  \"/>\n<polyline clip-path=\"url(#clip4002)\" style=\"stroke:#000000; stroke-width:4; stroke-opacity:1; fill:none\" points=\"\n  2112.76,592.433 2112.76,701.894 2112.76,570.964 2112.76,551.808 2052.4,570.964 2112.76,592.433 \n  \"/>\n<polyline clip-path=\"url(#clip4002)\" style=\"stroke:#000000; stroke-width:4; stroke-opacity:1; fill:none\" points=\"\n  643.612,214.363 721.09,178.174 643.612,158.66 554.894,178.174 643.612,214.363 \n  \"/>\n<polyline clip-path=\"url(#clip4002)\" style=\"stroke:#000000; stroke-width:4; stroke-opacity:1; fill:none\" points=\"\n  153.898,963.754 153.898,844.667 190.581,832.824 153.898,823.58 153.898,832.824 153.898,963.754 \n  \"/>\n<polyline clip-path=\"url(#clip4002)\" style=\"stroke:#000000; stroke-width:4; stroke-opacity:1; fill:none\" points=\"\n  1623.04,745.05 1805.37,701.894 1623.04,661.65 1472.84,701.894 1623.04,745.05 \n  \"/>\n<polyline clip-path=\"url(#clip4002)\" style=\"stroke:#000000; stroke-width:4; stroke-opacity:1; fill:none\" points=\"\n  153.898,701.894 153.898,606.129 260.035,570.964 153.898,537.611 153.898,570.964 153.898,701.894 \n  \"/>\n<polyline clip-path=\"url(#clip4002)\" style=\"stroke:#000000; stroke-width:4; stroke-opacity:1; fill:none\" points=\"\n  2112.76,573.375 2112.76,701.894 2112.76,570.964 2112.76,568.814 2105.98,570.964 2112.76,573.375 \n  \"/>\n<polyline clip-path=\"url(#clip4002)\" style=\"stroke:#000000; stroke-width:4; stroke-opacity:1; fill:none\" points=\"\n  643.612,192.541 674.371,178.174 643.612,170.427 608.392,178.174 643.612,192.541 \n  \"/>\n<polyline clip-path=\"url(#clip4002)\" style=\"stroke:#000000; stroke-width:4; stroke-opacity:1; fill:none\" points=\"\n  1623.04,734.261 1759.79,701.894 1623.04,671.711 1510.39,701.894 1623.04,734.261 \n  \"/>\n<polyline clip-path=\"url(#clip4002)\" style=\"stroke:#000000; stroke-width:4; stroke-opacity:1; fill:none\" points=\"\n  153.898,701.894 153.898,594.071 223.643,570.964 153.898,549.047 153.898,570.964 153.898,701.894 \n  \"/>\n<polyline clip-path=\"url(#clip4002)\" style=\"stroke:#000000; stroke-width:4; stroke-opacity:1; fill:none\" points=\"\n  1623.04,723.472 1714.21,701.894 1623.04,681.772 1547.94,701.894 1623.04,723.472 \n  \"/>\n<polyline clip-path=\"url(#clip4002)\" style=\"stroke:#000000; stroke-width:4; stroke-opacity:1; fill:none\" points=\"\n  153.898,701.894 153.898,582.014 187.25,570.964 153.898,560.483 153.898,570.964 153.898,701.894 \n  \"/>\n<polyline clip-path=\"url(#clip4002)\" style=\"stroke:#000000; stroke-width:4; stroke-opacity:1; fill:none\" points=\"\n  1623.04,712.683 1668.62,701.894 1623.04,691.833 1585.49,701.894 1623.04,712.683 \n  \"/>\n<defs>\n  <clipPath id=\"clip4003\">\n    <rect x=\"2160\" y=\"47\" width=\"73\" height=\"1441\"/>\n  </clipPath>\n</defs>\n<path clip-path=\"url(#clip4003)\" d=\"\nM2160.76 1487.47 L2232.76 1487.47 L2232.76 1397.46 L2160.76 1397.46  Z\n  \" fill=\"#000003\" fill-rule=\"evenodd\" fill-opacity=\"1\"/>\n<path clip-path=\"url(#clip4003)\" d=\"\nM2160.76 1397.46 L2232.76 1397.46 L2232.76 1307.45 L2160.76 1307.45  Z\n  \" fill=\"#0c0727\" fill-rule=\"evenodd\" fill-opacity=\"1\"/>\n<path clip-path=\"url(#clip4003)\" d=\"\nM2160.76 1307.45 L2232.76 1307.45 L2232.76 1217.43 L2160.76 1217.43  Z\n  \" fill=\"#240b4e\" fill-rule=\"evenodd\" fill-opacity=\"1\"/>\n<path clip-path=\"url(#clip4003)\" d=\"\nM2160.76 1217.43 L2232.76 1217.43 L2232.76 1127.42 L2160.76 1127.42  Z\n  \" fill=\"#420a67\" fill-rule=\"evenodd\" fill-opacity=\"1\"/>\n<path clip-path=\"url(#clip4003)\" d=\"\nM2160.76 1127.42 L2232.76 1127.42 L2232.76 1037.4 L2160.76 1037.4  Z\n  \" fill=\"#5d126d\" fill-rule=\"evenodd\" fill-opacity=\"1\"/>\n<path clip-path=\"url(#clip4003)\" d=\"\nM2160.76 1037.4 L2232.76 1037.4 L2232.76 947.388 L2160.76 947.388  Z\n  \" fill=\"#781c6d\" fill-rule=\"evenodd\" fill-opacity=\"1\"/>\n<path clip-path=\"url(#clip4003)\" d=\"\nM2160.76 947.388 L2232.76 947.388 L2232.76 857.374 L2160.76 857.374  Z\n  \" fill=\"#942666\" fill-rule=\"evenodd\" fill-opacity=\"1\"/>\n<path clip-path=\"url(#clip4003)\" d=\"\nM2160.76 857.374 L2232.76 857.374 L2232.76 767.359 L2160.76 767.359  Z\n  \" fill=\"#ad305b\" fill-rule=\"evenodd\" fill-opacity=\"1\"/>\n<path clip-path=\"url(#clip4003)\" d=\"\nM2160.76 767.359 L2232.76 767.359 L2232.76 677.345 L2160.76 677.345  Z\n  \" fill=\"#c73e4c\" fill-rule=\"evenodd\" fill-opacity=\"1\"/>\n<path clip-path=\"url(#clip4003)\" d=\"\nM2160.76 677.345 L2232.76 677.345 L2232.76 587.331 L2160.76 587.331  Z\n  \" fill=\"#db503a\" fill-rule=\"evenodd\" fill-opacity=\"1\"/>\n<path clip-path=\"url(#clip4003)\" d=\"\nM2160.76 587.331 L2232.76 587.331 L2232.76 497.316 L2160.76 497.316  Z\n  \" fill=\"#ec6925\" fill-rule=\"evenodd\" fill-opacity=\"1\"/>\n<path clip-path=\"url(#clip4003)\" d=\"\nM2160.76 497.316 L2232.76 497.316 L2232.76 407.302 L2160.76 407.302  Z\n  \" fill=\"#f7850e\" fill-rule=\"evenodd\" fill-opacity=\"1\"/>\n<path clip-path=\"url(#clip4003)\" d=\"\nM2160.76 407.302 L2232.76 407.302 L2232.76 317.287 L2160.76 317.287  Z\n  \" fill=\"#fba40a\" fill-rule=\"evenodd\" fill-opacity=\"1\"/>\n<path clip-path=\"url(#clip4003)\" d=\"\nM2160.76 317.287 L2232.76 317.287 L2232.76 227.273 L2160.76 227.273  Z\n  \" fill=\"#f9c52d\" fill-rule=\"evenodd\" fill-opacity=\"1\"/>\n<path clip-path=\"url(#clip4003)\" d=\"\nM2160.76 227.273 L2232.76 227.273 L2232.76 137.259 L2160.76 137.259  Z\n  \" fill=\"#f2e55f\" fill-rule=\"evenodd\" fill-opacity=\"1\"/>\n<path clip-path=\"url(#clip4003)\" d=\"\nM2160.76 137.259 L2232.76 137.259 L2232.76 47.2441 L2160.76 47.2441  Z\n  \" fill=\"#fcfea4\" fill-rule=\"evenodd\" fill-opacity=\"1\"/>\n<g clip-path=\"url(#clip4000)\">\n<text style=\"fill:#000000; fill-opacity:1; font-family:Arial,Helvetica Neue,Helvetica,sans-serif; font-size:48px; text-anchor:start;\" transform=\"rotate(0, 2268.76, 1378.02)\" x=\"2268.76\" y=\"1378.02\">19500</text>\n</g>\n<g clip-path=\"url(#clip4000)\">\n<text style=\"fill:#000000; fill-opacity:1; font-family:Arial,Helvetica Neue,Helvetica,sans-serif; font-size:48px; text-anchor:start;\" transform=\"rotate(0, 2268.76, 1225.58)\" x=\"2268.76\" y=\"1225.58\">20000</text>\n</g>\n<g clip-path=\"url(#clip4000)\">\n<text style=\"fill:#000000; fill-opacity:1; font-family:Arial,Helvetica Neue,Helvetica,sans-serif; font-size:48px; text-anchor:start;\" transform=\"rotate(0, 2268.76, 1073.15)\" x=\"2268.76\" y=\"1073.15\">20500</text>\n</g>\n<g clip-path=\"url(#clip4000)\">\n<text style=\"fill:#000000; fill-opacity:1; font-family:Arial,Helvetica Neue,Helvetica,sans-serif; font-size:48px; text-anchor:start;\" transform=\"rotate(0, 2268.76, 920.719)\" x=\"2268.76\" y=\"920.719\">21000</text>\n</g>\n<g clip-path=\"url(#clip4000)\">\n<text style=\"fill:#000000; fill-opacity:1; font-family:Arial,Helvetica Neue,Helvetica,sans-serif; font-size:48px; text-anchor:start;\" transform=\"rotate(0, 2268.76, 768.287)\" x=\"2268.76\" y=\"768.287\">21500</text>\n</g>\n<g clip-path=\"url(#clip4000)\">\n<text style=\"fill:#000000; fill-opacity:1; font-family:Arial,Helvetica Neue,Helvetica,sans-serif; font-size:48px; text-anchor:start;\" transform=\"rotate(0, 2268.76, 615.854)\" x=\"2268.76\" y=\"615.854\">22000</text>\n</g>\n<g clip-path=\"url(#clip4000)\">\n<text style=\"fill:#000000; fill-opacity:1; font-family:Arial,Helvetica Neue,Helvetica,sans-serif; font-size:48px; text-anchor:start;\" transform=\"rotate(0, 2268.76, 463.422)\" x=\"2268.76\" y=\"463.422\">22500</text>\n</g>\n<g clip-path=\"url(#clip4000)\">\n<text style=\"fill:#000000; fill-opacity:1; font-family:Arial,Helvetica Neue,Helvetica,sans-serif; font-size:48px; text-anchor:start;\" transform=\"rotate(0, 2268.76, 310.99)\" x=\"2268.76\" y=\"310.99\">23000</text>\n</g>\n<g clip-path=\"url(#clip4000)\">\n<text style=\"fill:#000000; fill-opacity:1; font-family:Arial,Helvetica Neue,Helvetica,sans-serif; font-size:48px; text-anchor:start;\" transform=\"rotate(0, 2268.76, 158.557)\" x=\"2268.76\" y=\"158.557\">23500</text>\n</g>\n<polyline clip-path=\"url(#clip4000)\" style=\"stroke:#000000; stroke-width:4; stroke-opacity:1; fill:none\" points=\"\n  2232.76,1487.47 2232.76,1364.36 2256.76,1364.36 2232.76,1364.36 2232.76,1211.93 2256.76,1211.93 2232.76,1211.93 2232.76,1059.5 2256.76,1059.5 2232.76,1059.5 \n  2232.76,907.068 2256.76,907.068 2232.76,907.068 2232.76,754.635 2256.76,754.635 2232.76,754.635 2232.76,602.203 2256.76,602.203 2232.76,602.203 2232.76,449.771 \n  2256.76,449.771 2232.76,449.771 2232.76,297.338 2256.76,297.338 2232.76,297.338 2232.76,144.906 2256.76,144.906 2232.76,144.906 2232.76,47.2441 \n  \"/>\n</svg>\n"
          },
          "metadata": {
            "tags": []
          },
          "execution_count": 29
        }
      ]
    },
    {
      "cell_type": "code",
      "metadata": {
        "id": "adAta9mayORI",
        "colab_type": "code",
        "colab": {}
      },
      "source": [
        ""
      ],
      "execution_count": 0,
      "outputs": []
    }
  ]
}